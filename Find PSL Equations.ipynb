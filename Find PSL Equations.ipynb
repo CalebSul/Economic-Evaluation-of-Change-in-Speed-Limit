{
 "cells": [
  {
   "cell_type": "code",
   "execution_count": 15,
   "id": "5c1811c4-69ca-4fe7-ba3b-b8d04bb0e0cb",
   "metadata": {},
   "outputs": [],
   "source": [
    "import pandas as pd\n",
    "import matplotlib.pyplot as plt\n",
    "import numpy as np"
   ]
  },
  {
   "cell_type": "code",
   "execution_count": 46,
   "id": "5b4aa098-3192-42d9-94e5-e6240bda0436",
   "metadata": {},
   "outputs": [
    {
     "name": "stdout",
     "output_type": "stream",
     "text": [
      "Plate         object\n",
      "SL_change     object\n",
      "V_15         float64\n",
      "V_50         float64\n",
      "V_85         float64\n",
      "stn_dev      float64\n",
      "CV           float64\n",
      "kurtosis     float64\n",
      "PSL            int64\n",
      "dtype: object\n"
     ]
    }
   ],
   "source": [
    "#df = pd.read_csv(f'vehicle_speed_statistics_all_models_only_100kmh.csv')\n",
    "\n",
    "df = df[df['SL_change'] != \"No_Change\"]\n",
    "df['PSL'] = df['SL_change'].str.split('_').str[-1]\n",
    "#df = df.sort_values(by='PSL', ascending=True).reset_index(drop=True)\n",
    "df['PSL'] = pd.to_numeric(df['PSL'])\n",
    "print(df)\n",
    "print(df.dtypes)"
   ]
  },
  {
   "cell_type": "code",
   "execution_count": 52,
   "id": "d0468b5c-fbbd-4f7b-98fe-70fbcf8cb4e0",
   "metadata": {},
   "outputs": [
    {
     "data": {
      "text/plain": [
       "<matplotlib.legend.Legend at 0x25e15653e60>"
      ]
     },
     "execution_count": 52,
     "metadata": {},
     "output_type": "execute_result"
    },
    {
     "data": {
      "image/png": "[encoded data removed]",
      "text/plain": [
       "<Figure size 640x480 with 1 Axes>"
      ]
     },
     "metadata": {},
     "output_type": "display_data"
    }
   ],
   "source": [
    "fig, ax = plt.subplots()\n",
    "#plt.plot(df['PSL'], df['V_15'], 'o', label='V_15')\n",
    "plt.plot(df['PSL'], df['V_50'],'o', label='V_50')\n",
    "plt.plot(df['PSL'], df['V_85'],'ro', label='V_85')\n",
    "plt.legend()"
   ]
  },
  {
   "cell_type": "code",
   "execution_count": 86,
   "id": "d5c7dbe8-71fc-4de6-8db1-458edcf9e445",
   "metadata": {},
   "outputs": [
    {
     "name": "stdout",
     "output_type": "stream",
     "text": [
      "For General at 50\n",
      "R² value: 0.7577777759692582\n",
      "slope value: 0.4332658075526422\n",
      "intercept value: 29.605862687624757\n",
      "For General at 85\n",
      "R² value: 0.9666413929599637\n",
      "slope value: 0.9338525431937953\n",
      "intercept value: 5.1645653024942675\n",
      "For Car at 50\n",
      "R² value: 0.6359492096425893\n",
      "slope value: 0.4494117888305284\n",
      "intercept value: 32.19218086009208\n",
      "For Car at 85\n",
      "R² value: 0.9961377937852686\n",
      "slope value: 0.9270273614080401\n",
      "intercept value: 6.943120525862668\n",
      "For Truck at 50\n",
      "R² value: 1.0\n",
      "slope value: 0.42421512037916437\n",
      "intercept value: 25.9967363641997\n",
      "For Truck at 85\n",
      "R² value: 1.0\n",
      "slope value: 0.808731808283981\n",
      "intercept value: 9.125739171601893\n",
      "For SUV at 50\n",
      "R² value: 0.8005177788634059\n",
      "slope value: 0.43094168001441274\n",
      "intercept value: 29.4495116854738\n",
      "For SUV at 85\n",
      "R² value: 0.974534866813827\n",
      "slope value: 0.9477296530419278\n",
      "intercept value: 4.412736870909839\n"
     ]
    }
   ],
   "source": [
    "import numpy as np\n",
    "import matplotlib.pyplot as plt\n",
    "from scipy.stats import linregress\n",
    "\n",
    "vehicles = ['General', 'Car', 'Truck', 'SUV']\n",
    "percentile = ['50', '85']\n",
    "for vehicle in vehicles:\n",
    "    # Assign the appropriate DataFrame based on the vehicle\n",
    "    if vehicle == 'General':\n",
    "        df1 = df\n",
    "    elif vehicle == 'Car':\n",
    "        df1 = df[df['Plate'].isin([#car license plates go here])].copy()\n",
    "    elif vehicle == 'Truck':\n",
    "        df1 = df[df['Plate'] == #truck license plates go here].copy()\n",
    "    elif vehicle == 'SUV':\n",
    "        df1 = df[~df['Plate'].isin([#truck and car license plates go here])].copy()\n",
    "    for percent in percentile:\n",
    "        # Assuming you have your scatter plot data\n",
    "        x = df1['PSL']  # independent variable\n",
    "        y = df1[f'V_{percent}']  # dependent variable\n",
    "        \n",
    "        # Scatter plot\n",
    "        #plt.scatter(x, y, label='Data', color='blue')\n",
    "        \n",
    "        # Fit a linear regression line\n",
    "        slope, intercept, r_value, p_value, std_err = linregress(x, y)\n",
    "        \n",
    "        # Calculate the R^2 value\n",
    "        r_squared = r_value ** 2\n",
    "        \n",
    "        # Create the linear line based on the slope and intercept\n",
    "        y_fit = slope * x + intercept\n",
    "        \n",
    "        # Plot the linear line\n",
    "        #plt.plot(x, y_fit, color='red', label=f'Linear Fit (R² = {r_squared:.2f})')\n",
    "        \n",
    "        # Add legend and labels\n",
    "        #plt.legend()\n",
    "        #plt.xlabel('PSL')\n",
    "        #plt.ylabel(f'V_{percent}')\n",
    "        \n",
    "        # Show the plot\n",
    "        #plt.show()\n",
    "        \n",
    "        # Output the R² value\n",
    "        print(f\"For {vehicle} at {percent}\")\n",
    "        print(f\"R² value: {r_squared}\")\n",
    "        print(f\"slope value: {slope}\")\n",
    "        print(f\"intercept value: {intercept}\")"
   ]
  },
  {
   "cell_type": "code",
   "execution_count": null,
   "id": "395e68fa-fcee-4ec0-aec2-c4344b74ecc0",
   "metadata": {},
   "outputs": [],
   "source": []
  }
 ],
 "metadata": {
  "kernelspec": {
   "display_name": "Python 3 (ipykernel)",
   "language": "python",
   "name": "python3"
  },
  "language_info": {
   "codemirror_mode": {
    "name": "ipython",
    "version": 3
   },
   "file_extension": ".py",
   "mimetype": "text/x-python",
   "name": "python",
   "nbconvert_exporter": "python",
   "pygments_lexer": "ipython3",
   "version": "3.12.7"
  }
 },
 "nbformat": 4,
 "nbformat_minor": 5
}
